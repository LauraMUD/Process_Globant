{
 "cells": [
  {
   "cell_type": "code",
   "execution_count": 1,
   "metadata": {},
   "outputs": [],
   "source": [
    "#Project libraries\n",
    "import numpy as np\n",
    "import pandas as pd\n",
    "import csv\n",
    "import mysql.connector"
   ]
  },
  {
   "cell_type": "code",
   "execution_count": 20,
   "metadata": {},
   "outputs": [],
   "source": [
    "# credentials db\n",
    "\n",
    "def credentials_db():\n",
    "    credentials=mysql.connector.connect(\n",
    "        host=\"localhost\",\n",
    "        user=\"root\",\n",
    "        password=\"Laurisma17$\",\n",
    "        database=\"process_globant\"\n",
    "\n",
    "    )\n",
    "    return credentials"
   ]
  },
  {
   "cell_type": "code",
   "execution_count": 11,
   "metadata": {},
   "outputs": [],
   "source": [
    "#Load dataset to check rule\n",
    "path_dept= './departments.csv'\n",
    "path_jobs= './jobs.csv'\n",
    "path_hiredempl= './hired_employees.csv'\n",
    "\n",
    "#Load to dataframes\n",
    "df_dept = pd.read_csv(path_dept)\n",
    "df_jobs = pd.read_csv(path_jobs)\n",
    "df_he = pd.read_csv(path_hiredempl)\n"
   ]
  },
  {
   "cell_type": "code",
   "execution_count": 8,
   "metadata": {},
   "outputs": [
    {
     "data": {
      "text/plain": [
       "1                         int64\n",
       "Harold Vogt              object\n",
       "2021-11-07T02:48:42Z     object\n",
       "2                       float64\n",
       "96                      float64\n",
       "dtype: object"
      ]
     },
     "execution_count": 8,
     "metadata": {},
     "output_type": "execute_result"
    }
   ],
   "source": [
    "df_he.dtypes"
   ]
  },
  {
   "cell_type": "code",
   "execution_count": 28,
   "metadata": {},
   "outputs": [],
   "source": [
    "#Load data from file csv into MySQL database: departments \n",
    "def load_dept_db(path_dept):\n",
    "    credentials=credentials_db()\n",
    "    cursor=credentials.cursor()\n",
    "\n",
    "    with open(path_dept,'r') as file:\n",
    "        reader=csv.reader(file, delimiter=',')\n",
    "        header=True\n",
    "        for row in reader:\n",
    "            if header:\n",
    "                header=False\n",
    "                continue\n",
    "           \n",
    "            sql_dept=\"INSERT INTO departments (iddepartments, departments_name) VALUES (%s, %s)\"\n",
    "            values_dept=(row[0],row[1])\n",
    "\n",
    "            cursor.execute(sql_dept,values_dept)\n",
    "            print(row)\n",
    "    credentials.commit()\n",
    "    cursor.close()\n",
    "    credentials.close()"
   ]
  },
  {
   "cell_type": "code",
   "execution_count": 26,
   "metadata": {},
   "outputs": [],
   "source": [
    "#Load data from file csv into MySQL database: departments \n",
    "def load_dept_db(path_dept):\n",
    "    try:\n",
    "        credentials=credentials_db()\n",
    "        cursor=credentials.cursor()\n",
    "        with open('departments.csv','r') as file:\n",
    "            reader=csv.reader(file, delimiter=',')\n",
    "            \n",
    "            #header=True\n",
    "            for row in reader:\n",
    "                #if header:\n",
    "                    #header=False\n",
    "                    #continue\n",
    "                print(row)\n",
    "                sql_dept=\"INSERT INTO `process_globant.departments` (`iddepartments`, `departments_name`) VALUES (%s, %s)\"\n",
    "                values_dept=(row[0],row[1])\n",
    "                cursor.execute(sql_dept,values_dept)\n",
    "        credentials.commit()\n",
    "\n",
    "\n",
    "    finally:\n",
    "        cursor.close()\n",
    "        credentials.close()\n"
   ]
  },
  {
   "cell_type": "code",
   "execution_count": 24,
   "metadata": {},
   "outputs": [],
   "source": [
    "credentials=credentials_db()\n",
    "cursor=credentials.cursor()\n",
    "cursor.execute(\"SELECT * FROM `departments`\")\n",
    "for row in cursor.fetchall():\n",
    "    print(row[0])"
   ]
  },
  {
   "cell_type": "code",
   "execution_count": 29,
   "metadata": {},
   "outputs": [
    {
     "name": "stdout",
     "output_type": "stream",
     "text": [
      "['1', 'Product Management']\n",
      "['2', 'Sales']\n",
      "['3', 'Research and Development']\n",
      "['4', 'Business Development']\n",
      "['5', 'Engineering']\n",
      "['6', 'Human Resources']\n",
      "['7', 'Services']\n",
      "['8', 'Support']\n",
      "['9', 'Marketing']\n",
      "['10', 'Training']\n",
      "['11', 'Legal']\n",
      "['12', 'Accounting']\n"
     ]
    }
   ],
   "source": [
    "with open('departments.csv','r') as file:\n",
    "    reader=csv.reader(file, delimiter=',')\n",
    "    for row in reader:\n",
    "        print(row)"
   ]
  }
 ],
 "metadata": {
  "kernelspec": {
   "display_name": "Python 3",
   "language": "python",
   "name": "python3"
  },
  "language_info": {
   "codemirror_mode": {
    "name": "ipython",
    "version": 3
   },
   "file_extension": ".py",
   "mimetype": "text/x-python",
   "name": "python",
   "nbconvert_exporter": "python",
   "pygments_lexer": "ipython3",
   "version": "3.11.1"
  },
  "orig_nbformat": 4,
  "vscode": {
   "interpreter": {
    "hash": "5238573367df39f7286bb46f9ff5f08f63a01a80960060ce41e3c79b190280fa"
   }
  }
 },
 "nbformat": 4,
 "nbformat_minor": 2
}
